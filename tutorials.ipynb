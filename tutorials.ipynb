{
 "cells": [
  {
   "cell_type": "markdown",
   "id": "7116b4a6",
   "metadata": {},
   "source": [
    "# Verification torch\n",
    "\n",
    "查看PyTorch版本，cuda版本等等"
   ]
  },
  {
   "cell_type": "code",
   "execution_count": null,
   "id": "b29fa5d4",
   "metadata": {},
   "outputs": [],
   "source": [
    "import torch\n",
    "import numpy as np\n",
    "\n",
    "print(torch.__version__)  # 查看 PyTorch 版本\n",
    "print(torch.version.cuda) # 查看 PyTorch 构建时使用的 CUDA 版本\n",
    "print(torch.cuda.is_available()) # 最重要：输出应为 True"
   ]
  },
  {
   "cell_type": "markdown",
   "id": "19929ad0",
   "metadata": {},
   "source": [
    "# Tensors\n",
    "\n",
    "高维数据结构，任意维的矩阵"
   ]
  },
  {
   "cell_type": "markdown",
   "id": "00e84eac",
   "metadata": {},
   "source": [
    "## Initializing a Tensor"
   ]
  },
  {
   "cell_type": "code",
   "execution_count": null,
   "id": "ef105dcb",
   "metadata": {},
   "outputs": [],
   "source": [
    "# From list\n",
    "data = [[1, 2],[3, 4]]\n",
    "x_data = torch.tensor(data)\n",
    "print(x_data)\n",
    "# From numpy\n",
    "np_array = np.array(data)\n",
    "x_np = torch.from_numpy(np_array)\n",
    "print(x_np)\n",
    "# From tensor\n",
    "# *_like based a existing tensor's template, create tensors with new content but have same structure.\n",
    "x_ones = torch.ones_like(x_data) # retains the properties of x_data\n",
    "print(f\"Ones Tensor: \\n {x_ones} \\n\")\n",
    "x_rand = torch.rand_like(x_data, dtype=torch.float) # overrides the datatype of x_data\n",
    "print(f\"Random Tensor: \\n {x_rand} \\n\")"
   ]
  },
  {
   "cell_type": "markdown",
   "id": "c3a16345",
   "metadata": {},
   "source": [
    "## `shape` is a tuple of tensor dimensions."
   ]
  },
  {
   "cell_type": "code",
   "execution_count": null,
   "id": "9bba00ac",
   "metadata": {},
   "outputs": [],
   "source": [
    "shape = (2,3,)\n",
    "rand_tensor = torch.rand(shape)\n",
    "ones_tensor = torch.ones(shape)\n",
    "zeros_tensor = torch.zeros(shape)\n",
    "\n",
    "print(f\"Random Tensor: \\n {rand_tensor} \\n\")\n",
    "print(f\"Ones Tensor: \\n {ones_tensor} \\n\")\n",
    "print(f\"Zeros Tensor: \\n {zeros_tensor}\")"
   ]
  },
  {
   "cell_type": "markdown",
   "id": "18473953",
   "metadata": {},
   "source": [
    "## Attributes of tensor\n",
    "\n",
    "Tensor attributes describe their shape, datatype, and the device on which they are stored."
   ]
  },
  {
   "cell_type": "code",
   "execution_count": null,
   "id": "049cda0f",
   "metadata": {},
   "outputs": [],
   "source": [
    "tensor = torch.rand(3,4)\n",
    "\n",
    "print(f\"Shape of tensor: {tensor.shape}\")\n",
    "print(f\"Datatype of tensor: {tensor.dtype}\")\n",
    "print(f\"Device tensor is stored on: {tensor.device}\")"
   ]
  },
  {
   "cell_type": "markdown",
   "id": "ecce2ff9",
   "metadata": {},
   "source": [
    "## Operations on Tensors\n",
    "\n",
    "Over 1200 tensor operations, including arithmetic, linear algebra, matrix manipulation (transposing, indexing, slicing), sampling and more are comprehensively described [here](https://pytorch.org/docs/stable/torch.html)."
   ]
  },
  {
   "cell_type": "markdown",
   "id": "f9a8701b",
   "metadata": {},
   "source": [
    "### reshape operations"
   ]
  },
  {
   "cell_type": "markdown",
   "id": "79af93af",
   "metadata": {},
   "source": [
    "Allocate an accelerator by going to Runtime > Change runtime type > GPU.\n",
    "\n",
    "Use `.to` to > GPU"
   ]
  },
  {
   "cell_type": "code",
   "execution_count": null,
   "id": "7651b42f",
   "metadata": {},
   "outputs": [],
   "source": [
    "tensor = tensor.to(torch.accelerator.current_accelerator())\n",
    "print(f\"Device tensor is stored on: {tensor.device}\")"
   ]
  },
  {
   "cell_type": "markdown",
   "id": "bba5dcc9",
   "metadata": {},
   "source": [
    "Use `torch.cat` or `torch.stack` to concatenate a sequence of tensors along a given dimension."
   ]
  },
  {
   "cell_type": "code",
   "execution_count": null,
   "id": "d1736dd5",
   "metadata": {},
   "outputs": [],
   "source": [
    "tensor = torch.ones(4, 4)\n",
    "t1 = torch.cat([tensor, tensor, tensor], dim=1) # dim 希望拼接在哪个维度上\n",
    "print(t1)\n",
    "t2 = torch.stack([tensor, tensor, tensor], dim=1)\n",
    "print(t2)"
   ]
  },
  {
   "cell_type": "markdown",
   "id": "76a1f2c6",
   "metadata": {},
   "source": [
    "### Arithmetic operations"
   ]
  },
  {
   "cell_type": "code",
   "execution_count": null,
   "id": "8f60bb2e",
   "metadata": {},
   "outputs": [],
   "source": [
    "# This computes the matrix multiplication between two tensors. y1, y2, y3 will have the same value\n",
    "# ``tensor.T`` returns the transpose of a tensor 转置\n",
    "y1 = tensor @ tensor.T # @ is alias of matmul\n",
    "y2 = tensor.matmul(tensor.T)\n",
    "# y1 is equal to y2\n",
    "y3 = torch.rand_like(y1)\n",
    "torch.matmul(tensor, tensor.T, out=y3)\n",
    "print(y3)\n",
    "# This computes the element-wise product. z1, z2, z3 will have the same value\n",
    "z1 = tensor * tensor\n",
    "z2 = tensor.mul(tensor)\n",
    "\n",
    "z3 = torch.rand_like(tensor)\n",
    "torch.mul(tensor, tensor, out=z3)\n",
    "print(z3)"
   ]
  },
  {
   "cell_type": "markdown",
   "id": "8c705695",
   "metadata": {},
   "source": [
    "Use `.item()` to get the value of single-element tensor "
   ]
  },
  {
   "cell_type": "code",
   "execution_count": null,
   "id": "bdac9ae6",
   "metadata": {},
   "outputs": [],
   "source": [
    "agg = tensor.sum()\n",
    "agg_item = agg.item()\n",
    "print(agg_item, type(agg_item))"
   ]
  },
  {
   "cell_type": "markdown",
   "id": "c5aa26f3",
   "metadata": {},
   "source": [
    "A function with `x.*_` will consume `x`"
   ]
  },
  {
   "cell_type": "code",
   "execution_count": null,
   "id": "777e3d3e",
   "metadata": {},
   "outputs": [],
   "source": [
    "print(f\"{tensor} \\n\")\n",
    "tensor.add_(5)\n",
    "print(tensor)\n",
    "x = tensor.add(5)\n",
    "print(x)"
   ]
  },
  {
   "cell_type": "markdown",
   "id": "72cd422f",
   "metadata": {},
   "source": [
    "## Bridge with numpy\n",
    "\n",
    "A change in the tensor reflects in the NumPy array."
   ]
  },
  {
   "cell_type": "code",
   "execution_count": null,
   "id": "8793fa3e",
   "metadata": {},
   "outputs": [],
   "source": [
    "# tensor to numpy\n",
    "t = torch.ones(5)\n",
    "print(f\"t: {t}\")\n",
    "n = t.numpy()\n",
    "print(f\"n: {n}\")\n",
    "t.add_(5)\n",
    "print(f\"t: {t}\")\n",
    "print(f\"n: {n}\")"
   ]
  },
  {
   "cell_type": "code",
   "execution_count": null,
   "id": "9fad613c",
   "metadata": {},
   "outputs": [],
   "source": [
    "# numpy to tensor\n",
    "n = np.ones(5)\n",
    "t = torch.from_numpy(n)\n",
    "np.add(n, 1, out=n)\n",
    "print(f\"t: {t}\")\n",
    "print(f\"n: {n}\")"
   ]
  },
  {
   "cell_type": "markdown",
   "id": "9438900b",
   "metadata": {},
   "source": [
    "# DataSets & DataLoaders\n",
    "\n",
    "`torch.uilt.data.DataLoader` and `torch.uilt.data.Dataset` are the two most commonly used utilities for loading data in PyTorch.\n",
    "\n",
    "`Dataset` store the samples and corresponding labels, and `DataLoader` wraps an iterable around the `Dataset` to enable easy access to the samples."
   ]
  },
  {
   "cell_type": "markdown",
   "id": "af22fe07",
   "metadata": {},
   "source": [
    "## Iterating and Visualizing the Dataset"
   ]
  },
  {
   "cell_type": "code",
   "execution_count": null,
   "id": "9127973f",
   "metadata": {},
   "outputs": [],
   "source": [
    "import torch\n",
    "from torch.utils.data import Dataset\n",
    "from torchvision import datasets\n",
    "from torchvision.transforms import ToTensor\n",
    "import matplotlib.pyplot as plt\n",
    "\n",
    "\n",
    "training_data = datasets.FashionMNIST(\n",
    "    root=\"data\",\n",
    "    train=True,\n",
    "    download=True,\n",
    "    transform=ToTensor()\n",
    ")\n",
    "\n",
    "test_data = datasets.FashionMNIST(\n",
    "    root=\"data\",\n",
    "    train=False,\n",
    "    download=True,\n",
    "    transform=ToTensor()\n",
    ")"
   ]
  },
  {
   "cell_type": "code",
   "execution_count": null,
   "id": "5e5db20e",
   "metadata": {},
   "outputs": [],
   "source": [
    "labels_map = {\n",
    "    0: \"T-Shirt\",\n",
    "    1: \"Trouser\",\n",
    "    2: \"Pullover\",\n",
    "    3: \"Dress\",\n",
    "    4: \"Coat\",\n",
    "    5: \"Sandal\",\n",
    "    6: \"Shirt\",\n",
    "    7: \"Sneaker\",\n",
    "    8: \"Bag\",\n",
    "    9: \"Ankle Boot\",\n",
    "}\n",
    "figure = plt.figure(figsize=(8, 8))\n",
    "cols, rows = 3, 3\n",
    "for i in range(1, cols * rows + 1):\n",
    "    sample_idx = torch.randint(len(training_data), size=(1,)).item()\n",
    "    img, label = training_data[sample_idx]\n",
    "    figure.add_subplot(rows, cols, i)\n",
    "    plt.title(labels_map[label])\n",
    "    plt.axis(\"off\")\n",
    "    plt.imshow(img.squeeze(), cmap=\"gray\")\n",
    "plt.show()"
   ]
  },
  {
   "cell_type": "markdown",
   "id": "c1d61908",
   "metadata": {},
   "source": [
    "## Create a Custom Dataset for your files\n",
    "\n",
    "Create a class from Dataset calss and override the following methods:\n",
    "1. __init__ \n",
    "2. __len__ return the number of samples in your dataset\n",
    "3. __getitem__ get a tensor and a label of a sample via its index"
   ]
  },
  {
   "cell_type": "code",
   "execution_count": null,
   "id": "55cda99d",
   "metadata": {},
   "outputs": [],
   "source": [
    "import os\n",
    "import pandas as pd\n",
    "from torchvision.io import decode_image\n",
    "\n",
    "class CustomImageDataset(Dataset):\n",
    "    def __init__(self, annotations_file, img_dir, transform=None, target_transform=None):\n",
    "        self.img_labels = pd.read_csv(annotations_file)\n",
    "        self.img_dir = img_dir\n",
    "        self.transform = transform\n",
    "        self.target_transform = target_transform\n",
    "\n",
    "    def __len__(self):\n",
    "        return len(self.img_labels)\n",
    "\n",
    "    def __getitem__(self, idx):\n",
    "        img_path = os.path.join(self.img_dir, self.img_labels.iloc[idx, 0])\n",
    "        image = decode_image(img_path)\n",
    "        label = self.img_labels.iloc[idx, 1]\n",
    "        if self.transform:\n",
    "            image = self.transform(image)\n",
    "        if self.target_transform:\n",
    "            label = self.target_transform(label)\n",
    "        return image, label"
   ]
  },
  {
   "cell_type": "markdown",
   "id": "49c2a307",
   "metadata": {},
   "source": [
    "## DataLoader\n",
    "\n",
    "When loading data from the dataset, you can specify the size of each batch of data and whether it is shuffled.\n",
    "\n",
    "It is a iterator."
   ]
  },
  {
   "cell_type": "code",
   "execution_count": null,
   "id": "1c114d6f",
   "metadata": {},
   "outputs": [],
   "source": [
    "from torch.utils.data import DataLoader\n",
    "\n",
    "train_dataloader = DataLoader(training_data, batch_size=64, shuffle=True)\n",
    "test_dataloader = DataLoader(test_data, batch_size=64, shuffle=True)"
   ]
  },
  {
   "cell_type": "code",
   "execution_count": null,
   "id": "9db090be",
   "metadata": {},
   "outputs": [],
   "source": [
    "# Display image and label.\n",
    "train_features, train_labels = next(iter(train_dataloader))\n",
    "print(f\"Feature batch shape: {train_features.size()}\")\n",
    "print(f\"Labels batch shape: {train_labels.size()}\")\n",
    "img = train_features[0].squeeze()\n",
    "label = train_labels[0]\n",
    "plt.imshow(img, cmap=\"gray\")\n",
    "plt.show()\n",
    "print(f\"Label: {label}\")"
   ]
  },
  {
   "cell_type": "markdown",
   "id": "3be896de",
   "metadata": {},
   "source": [
    "# Transforms\n",
    "\n",
    "Let the data more suitable for training.\n",
    "\n",
    "`transform` to modify the input data (feature).\n",
    "\n",
    "`target_transform` to modify the target data (label)."
   ]
  },
  {
   "cell_type": "code",
   "execution_count": null,
   "id": "5d0faad7",
   "metadata": {},
   "outputs": [],
   "source": [
    "import torch\n",
    "from torchvision import datasets\n",
    "from torchvision.transforms import ToTensor, Lambda\n",
    "\n",
    "ds = datasets.FashionMNIST(\n",
    "    root=\"data\",\n",
    "    train=True,\n",
    "    download=True,\n",
    "    transform=ToTensor(),\n",
    "    target_transform=Lambda(lambda y: torch.zeros(10, dtype=torch.float).scatter_(0, torch.tensor(y), value=1))\n",
    ")"
   ]
  },
  {
   "cell_type": "markdown",
   "id": "bb519564",
   "metadata": {},
   "source": [
    "# Build the Neural Network\n",
    "\n",
    "Neural networks comprise of layers/modules that perform operations on data. The `torch.nn` namespace provides all the building blocks you need to build your own neural network. Every module in PyTorch subclasses the `nn.Module`."
   ]
  },
  {
   "cell_type": "code",
   "execution_count": 1,
   "id": "ee6aeb35",
   "metadata": {},
   "outputs": [],
   "source": [
    "import os\n",
    "import torch\n",
    "from torch import nn\n",
    "from torch.utils.data import DataLoader\n",
    "from torchvision import datasets, transforms"
   ]
  },
  {
   "cell_type": "markdown",
   "id": "47ff8d18",
   "metadata": {},
   "source": [
    "Get device for training."
   ]
  },
  {
   "cell_type": "code",
   "execution_count": 2,
   "id": "3122a8b4",
   "metadata": {},
   "outputs": [
    {
     "name": "stdout",
     "output_type": "stream",
     "text": [
      "Using cpu device\n"
     ]
    }
   ],
   "source": [
    "device = torch.accelerator.current_accelerator().type if torch.accelerator.is_available() else \"cpu\"\n",
    "print(f\"Using {device} device\")"
   ]
  },
  {
   "cell_type": "markdown",
   "id": "3c647a4b",
   "metadata": {},
   "source": [
    "Define a Neural Network by subclassing `nn.Module`"
   ]
  },
  {
   "cell_type": "code",
   "execution_count": 3,
   "id": "2bb97a67",
   "metadata": {},
   "outputs": [],
   "source": [
    "class NeuralNetwork(nn.Module):\n",
    "    def __init__(self):\n",
    "        super().__init__()\n",
    "        self.flatten = nn.Flatten() # 2 dim to 1 dim\n",
    "        self.linear_relu_stack = nn.Sequential( # leayers\n",
    "            nn.Linear(28*28, 512),  # 全连接层 28*28 -> 512\n",
    "            nn.ReLU(),              # 修正线性单元\n",
    "            nn.Linear(512, 512),    # 全连接层 512 -> 512\n",
    "            nn.ReLU(),              # 修正线性单元\n",
    "            nn.Linear(512, 10),     # 全连接层 512 -> 10\n",
    "        )\n",
    "\n",
    "    def forward(self, x):\n",
    "        x = self.flatten(x)\n",
    "        logits = self.linear_relu_stack(x)\n",
    "        return logits"
   ]
  },
  {
   "cell_type": "markdown",
   "id": "997515d9",
   "metadata": {},
   "source": [
    "Move neural network to device"
   ]
  },
  {
   "cell_type": "code",
   "execution_count": 4,
   "id": "b23909b3",
   "metadata": {},
   "outputs": [
    {
     "name": "stdout",
     "output_type": "stream",
     "text": [
      "NeuralNetwork(\n",
      "  (flatten): Flatten(start_dim=1, end_dim=-1)\n",
      "  (linear_relu_stack): Sequential(\n",
      "    (0): Linear(in_features=784, out_features=512, bias=True)\n",
      "    (1): ReLU()\n",
      "    (2): Linear(in_features=512, out_features=512, bias=True)\n",
      "    (3): ReLU()\n",
      "    (4): Linear(in_features=512, out_features=10, bias=True)\n",
      "  )\n",
      ")\n"
     ]
    }
   ],
   "source": [
    "model = NeuralNetwork().to(device)\n",
    "print(model)"
   ]
  },
  {
   "cell_type": "code",
   "execution_count": null,
   "id": "c93c9c20",
   "metadata": {},
   "outputs": [
    {
     "name": "stdout",
     "output_type": "stream",
     "text": [
      "tensor([[-0.0836, -0.0828, -0.0099,  0.0137,  0.0428,  0.0856,  0.0937, -0.0362,\n",
      "          0.0164,  0.0518]], grad_fn=<AddmmBackward0>)\n",
      "Predicted class: tensor([[0.0910, 0.0911, 0.0979, 0.1003, 0.1032, 0.1078, 0.1086, 0.0954, 0.1006,\n",
      "         0.1042]], grad_fn=<SoftmaxBackward0>)\n",
      "Predicted class: tensor([6])\n"
     ]
    }
   ],
   "source": [
    "X = torch.rand(1, 28, 28, device=device) # Suppose this is the input\n",
    "logits = model(X) # [ list of socre[], funciton of ]\n",
    "pred_probab = nn.Softmax(dim=1)(logits)\n",
    "print(f\"Predicted class: {pred_probab}\")\n",
    "y_pred = pred_probab.argmax(1)\n",
    "print(f\"Predicted class: {y_pred}\")"
   ]
  },
  {
   "cell_type": "code",
   "execution_count": null,
   "id": "b0ae0f72",
   "metadata": {},
   "outputs": [],
   "source": [
    "input_image = torch.rand(3,28,28)\n",
    "print(input_image.size())"
   ]
  },
  {
   "cell_type": "code",
   "execution_count": null,
   "id": "f24f738b",
   "metadata": {},
   "outputs": [],
   "source": [
    "flatten = nn.Flatten()\n",
    "flat_image = flatten(input_image)\n",
    "print(flat_image.size())"
   ]
  },
  {
   "cell_type": "code",
   "execution_count": null,
   "id": "a1c0e0b7",
   "metadata": {},
   "outputs": [],
   "source": [
    "layer1 = nn.Linear(in_features=28*28, out_features=20)\n",
    "hidden1 = layer1(flat_image)\n",
    "print(hidden1.size())"
   ]
  },
  {
   "cell_type": "code",
   "execution_count": null,
   "id": "18b92cac",
   "metadata": {},
   "outputs": [],
   "source": [
    "print(f\"Before ReLU: {hidden1}\\n\\n\")\n",
    "hidden1 = nn.ReLU()(hidden1)\n",
    "print(f\"After ReLU: {hidden1}\")"
   ]
  },
  {
   "cell_type": "code",
   "execution_count": null,
   "id": "603c016c",
   "metadata": {},
   "outputs": [],
   "source": [
    "seq_modules = nn.Sequential(\n",
    "    flatten,\n",
    "    layer1,\n",
    "    nn.ReLU(),\n",
    "    nn.Linear(20, 10)\n",
    ")\n",
    "input_image = torch.rand(3,28,28)\n",
    "logits = seq_modules(input_image)"
   ]
  },
  {
   "cell_type": "code",
   "execution_count": null,
   "id": "dd008312",
   "metadata": {},
   "outputs": [],
   "source": [
    "softmax = nn.Softmax(dim=1)\n",
    "pred_probab = softmax(logits)"
   ]
  },
  {
   "cell_type": "code",
   "execution_count": null,
   "id": "3acc27ae",
   "metadata": {},
   "outputs": [],
   "source": [
    "print(f\"Model structure: {model}\\n\\n\")\n",
    "\n",
    "for name, param in model.named_parameters():\n",
    "    print(f\"Layer: {name} | Size: {param.size()} | Values : {param[:2]} \\n\")"
   ]
  }
 ],
 "metadata": {
  "kernelspec": {
   "display_name": "quant",
   "language": "python",
   "name": "python3"
  },
  "language_info": {
   "codemirror_mode": {
    "name": "ipython",
    "version": 3
   },
   "file_extension": ".py",
   "mimetype": "text/x-python",
   "name": "python",
   "nbconvert_exporter": "python",
   "pygments_lexer": "ipython3",
   "version": "3.13.5"
  }
 },
 "nbformat": 4,
 "nbformat_minor": 5
}
