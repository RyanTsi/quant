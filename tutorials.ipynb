{
 "cells": [
  {
   "cell_type": "markdown",
   "id": "7116b4a6",
   "metadata": {},
   "source": [
    "# Verification torch\n",
    "\n",
    "查看PyTorch版本，cuda版本等等"
   ]
  },
  {
   "cell_type": "code",
   "execution_count": null,
   "id": "b29fa5d4",
   "metadata": {},
   "outputs": [],
   "source": [
    "import torch\n",
    "import numpy as np\n",
    "\n",
    "print(torch.__version__)  # 查看 PyTorch 版本\n",
    "print(torch.version.cuda) # 查看 PyTorch 构建时使用的 CUDA 版本（可能是 12.1）\n",
    "print(torch.cuda.is_available()) # 最重要：输出应为 True"
   ]
  },
  {
   "cell_type": "markdown",
   "id": "19929ad0",
   "metadata": {},
   "source": [
    "# Tensors\n",
    "\n",
    "高维数据结构，任意维的矩阵"
   ]
  },
  {
   "cell_type": "markdown",
   "id": "00e84eac",
   "metadata": {},
   "source": [
    "## Initializing a Tensor"
   ]
  },
  {
   "cell_type": "code",
   "execution_count": null,
   "id": "ef105dcb",
   "metadata": {},
   "outputs": [],
   "source": [
    "# From list\n",
    "data = [[1, 2],[3, 4]]\n",
    "x_data = torch.tensor(data)\n",
    "print(x_data)\n",
    "# From numpy\n",
    "np_array = np.array(data)\n",
    "x_np = torch.from_numpy(np_array)\n",
    "print(x_np)\n",
    "# From tensor\n",
    "# *_like based a existing tensor's template, create tensors with new content but have same structure.\n",
    "x_ones = torch.ones_like(x_data) # retains the properties of x_data\n",
    "print(f\"Ones Tensor: \\n {x_ones} \\n\")\n",
    "x_rand = torch.rand_like(x_data, dtype=torch.float) # overrides the datatype of x_data\n",
    "print(f\"Random Tensor: \\n {x_rand} \\n\")"
   ]
  },
  {
   "cell_type": "markdown",
   "id": "a47ac150",
   "metadata": {},
   "source": [
    "## `shape` is a tuple of tensor dimensions."
   ]
  },
  {
   "cell_type": "code",
   "execution_count": null,
   "id": "9bba00ac",
   "metadata": {},
   "outputs": [],
   "source": [
    "shape = (2,3,)\n",
    "rand_tensor = torch.rand(shape)\n",
    "ones_tensor = torch.ones(shape)\n",
    "zeros_tensor = torch.zeros(shape)\n",
    "\n",
    "print(f\"Random Tensor: \\n {rand_tensor} \\n\")\n",
    "print(f\"Ones Tensor: \\n {ones_tensor} \\n\")\n",
    "print(f\"Zeros Tensor: \\n {zeros_tensor}\")"
   ]
  },
  {
   "cell_type": "markdown",
   "id": "18473953",
   "metadata": {},
   "source": [
    "## Attributes of tensor\n",
    "\n",
    "Tensor attributes describe their shape, datatype, and the device on which they are stored."
   ]
  },
  {
   "cell_type": "code",
   "execution_count": null,
   "id": "049cda0f",
   "metadata": {},
   "outputs": [],
   "source": [
    "tensor = torch.rand(3,4)\n",
    "\n",
    "print(f\"Shape of tensor: {tensor.shape}\")\n",
    "print(f\"Datatype of tensor: {tensor.dtype}\")\n",
    "print(f\"Device tensor is stored on: {tensor.device}\")"
   ]
  },
  {
   "cell_type": "markdown",
   "id": "ecce2ff9",
   "metadata": {},
   "source": [
    "## Operations on Tensors\n",
    "\n",
    "Over 1200 tensor operations, including arithmetic, linear algebra, matrix manipulation (transposing, indexing, slicing), sampling and more are comprehensively described [here](https://pytorch.org/docs/stable/torch.html)."
   ]
  },
  {
   "cell_type": "markdown",
   "id": "f9a8701b",
   "metadata": {},
   "source": [
    "### shapre operations"
   ]
  },
  {
   "cell_type": "markdown",
   "id": "79af93af",
   "metadata": {},
   "source": [
    "Allocate an accelerator by going to Runtime > Change runtime type > GPU.\n",
    "Use `.to` to > GPU"
   ]
  },
  {
   "cell_type": "code",
   "execution_count": null,
   "id": "7651b42f",
   "metadata": {},
   "outputs": [],
   "source": [
    "tensor = tensor.to(torch.accelerator.current_accelerator())\n",
    "print(f\"Device tensor is stored on: {tensor.device}\")"
   ]
  },
  {
   "cell_type": "markdown",
   "id": "bba5dcc9",
   "metadata": {},
   "source": [
    "Use `torch.cat` or `torch.stack` to concatenate a sequence of tensors along a given dimension."
   ]
  },
  {
   "cell_type": "code",
   "execution_count": null,
   "id": "d1736dd5",
   "metadata": {},
   "outputs": [],
   "source": [
    "tensor = torch.ones(4, 4)\n",
    "t1 = torch.cat([tensor, tensor, tensor], dim=1) # dim 希望拼接在哪个维度上\n",
    "print(t1)\n",
    "t2 = torch.stack([tensor, tensor, tensor], dim=1)\n",
    "print(t2)"
   ]
  },
  {
   "cell_type": "markdown",
   "id": "76a1f2c6",
   "metadata": {},
   "source": [
    "### Arithmetic operations"
   ]
  },
  {
   "cell_type": "code",
   "execution_count": null,
   "id": "8f60bb2e",
   "metadata": {},
   "outputs": [],
   "source": [
    "# This computes the matrix multiplication between two tensors. y1, y2, y3 will have the same value\n",
    "# ``tensor.T`` returns the transpose of a tensor 转置\n",
    "y1 = tensor @ tensor.T # @ matmul\n",
    "y2 = tensor.matmul(tensor.T)\n",
    "# y1 is equal to y2\n",
    "y3 = torch.rand_like(y1)\n",
    "torch.matmul(tensor, tensor.T, out=y3)\n",
    "print(y3)\n",
    "# This computes the element-wise product. z1, z2, z3 will have the same value\n",
    "z1 = tensor * tensor\n",
    "z2 = tensor.mul(tensor)\n",
    "\n",
    "z3 = torch.rand_like(tensor)\n",
    "torch.mul(tensor, tensor, out=z3)\n",
    "print(z3)"
   ]
  },
  {
   "cell_type": "markdown",
   "id": "8c705695",
   "metadata": {},
   "source": [
    "Use `.item()` to get the value of single-element tensor "
   ]
  },
  {
   "cell_type": "code",
   "execution_count": null,
   "id": "bdac9ae6",
   "metadata": {},
   "outputs": [],
   "source": [
    "agg = tensor.sum()\n",
    "agg_item = agg.item()\n",
    "print(agg_item, type(agg_item))"
   ]
  },
  {
   "cell_type": "markdown",
   "id": "c5aa26f3",
   "metadata": {},
   "source": [
    "A function with `x.*_` will consume `x`"
   ]
  },
  {
   "cell_type": "code",
   "execution_count": null,
   "id": "777e3d3e",
   "metadata": {},
   "outputs": [],
   "source": [
    "print(f\"{tensor} \\n\")\n",
    "tensor.add_(5)\n",
    "print(tensor)\n",
    "x = tensor.add(5)\n",
    "print(x)"
   ]
  },
  {
   "cell_type": "markdown",
   "id": "72cd422f",
   "metadata": {},
   "source": [
    "## Bridge with numpy\n",
    "\n",
    "A change in the tensor reflects in the NumPy array."
   ]
  },
  {
   "cell_type": "code",
   "execution_count": null,
   "id": "8793fa3e",
   "metadata": {},
   "outputs": [
    {
     "name": "stdout",
     "output_type": "stream",
     "text": [
      "t: tensor([1., 1., 1., 1., 1.])\n",
      "n: [1. 1. 1. 1. 1.]\n",
      "t: tensor([6., 6., 6., 6., 6.])\n",
      "n: [6. 6. 6. 6. 6.]\n"
     ]
    }
   ],
   "source": [
    "# tensor to numpy\n",
    "t = torch.ones(5)\n",
    "print(f\"t: {t}\")\n",
    "n = t.numpy()\n",
    "print(f\"n: {n}\")\n",
    "t.add_(5)\n",
    "print(f\"t: {t}\")\n",
    "print(f\"n: {n}\")"
   ]
  },
  {
   "cell_type": "code",
   "execution_count": 68,
   "id": "9fad613c",
   "metadata": {},
   "outputs": [
    {
     "name": "stdout",
     "output_type": "stream",
     "text": [
      "t: tensor([2., 2., 2., 2., 2.], dtype=torch.float64)\n",
      "n: [2. 2. 2. 2. 2.]\n"
     ]
    }
   ],
   "source": [
    "# numpy to tensor\n",
    "n = np.ones(5)\n",
    "t = torch.from_numpy(n)\n",
    "np.add(n, 1, out=n)\n",
    "print(f\"t: {t}\")\n",
    "print(f\"n: {n}\")"
   ]
  }
 ],
 "metadata": {
  "kernelspec": {
   "display_name": "quant",
   "language": "python",
   "name": "python3"
  },
  "language_info": {
   "codemirror_mode": {
    "name": "ipython",
    "version": 3
   },
   "file_extension": ".py",
   "mimetype": "text/x-python",
   "name": "python",
   "nbconvert_exporter": "python",
   "pygments_lexer": "ipython3",
   "version": "3.13.5"
  }
 },
 "nbformat": 4,
 "nbformat_minor": 5
}
