{
 "cells": [
  {
   "cell_type": "markdown",
   "id": "19929ad0",
   "metadata": {},
   "source": [
    "Tensors\n"
   ]
  }
 ],
 "metadata": {
  "language_info": {
   "name": "python"
  }
 },
 "nbformat": 4,
 "nbformat_minor": 5
}
